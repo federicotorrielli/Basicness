{
 "cells": [
  {
   "cell_type": "code",
   "execution_count": 1,
   "id": "initial_id",
   "metadata": {
    "ExecuteTime": {
     "end_time": "2025-03-27T12:34:48.276419Z",
     "start_time": "2025-03-27T12:34:46.511761Z"
    },
    "collapsed": true
   },
   "outputs": [],
   "source": [
    "import ast\n",
    "\n",
    "import pandas as pd\n",
    "\n",
    "import wn\n",
    "\n",
    "from OMWMetricsExtractor import OMWMetricsExtractor\n",
    "\n",
    "from utils import get_path_from_root, get_resource_word_match\n",
    "from analyzer import OMWBasicnessAnalyzer\n",
    "from utils_plot import plot_heatmap, plot_spaghettiplot, plot_clustermap"
   ]
  },
  {
   "cell_type": "code",
   "execution_count": 2,
   "id": "6768cd22c9b67f36",
   "metadata": {
    "ExecuteTime": {
     "end_time": "2025-03-27T12:34:48.282878Z",
     "start_time": "2025-03-27T12:34:48.280090Z"
    }
   },
   "outputs": [],
   "source": [
    "enable_plots = False\n",
    "use_ili_list = False\n",
    "langs = (\"en\", \"it\", \"nb\", \"es\")\n",
    "# Choose resource set type: \"mixed\" (mixed random words), \"important\" (important words), \"selected\" (selected ilis/synsets), \"culture\" (all culture words)\n",
    "resource_set_type = \"annotation_culture_gold_it\"\n",
    "fixed_thresholds = [0.25, 0.5, 0.75]"
   ]
  },
  {
   "cell_type": "code",
   "execution_count": 3,
   "id": "a71f2ae7d41d77d6",
   "metadata": {
    "ExecuteTime": {
     "end_time": "2025-03-27T12:34:48.378557Z",
     "start_time": "2025-03-27T12:34:48.373310Z"
    }
   },
   "outputs": [],
   "source": [
    "if resource_set_type == \"mixed\":\n",
    "    out_prefix = \"mixed_words\"\n",
    "    input_path = get_path_from_root(f\"resources/{out_prefix}_omw.csv\")\n",
    "    json_path = get_path_from_root(f\"results/omw/{out_prefix}_omw_extracted.json\")\n",
    "    csv_path = get_path_from_root(f\"results/omw/{out_prefix}_omw_extracted.csv\")\n",
    "    analysis_name = f\"{out_prefix}_omw_scored\"\n",
    "elif resource_set_type == \"important\":\n",
    "    out_prefix = \"important_words\"\n",
    "    input_path = get_path_from_root(f\"resources/{out_prefix}_omw.csv\")\n",
    "    json_path = get_path_from_root(f\"results/omw/{out_prefix}_omw_extracted.json\")\n",
    "    csv_path = get_path_from_root(f\"results/omw/{out_prefix}_omw_extracted.csv\")\n",
    "    analysis_name = f\"{out_prefix}_omw_scored\"\n",
    "elif resource_set_type == \"selected\":\n",
    "    out_prefix = \"selected_ilis\"\n",
    "    selected_ilis_path = get_path_from_root(\"resources/selected_ilis_omw.csv\")\n",
    "    selected_words_path = get_path_from_root(\"resources/selected_words_omw.csv\")\n",
    "    json_path = get_path_from_root(f\"results/omw/{out_prefix}_omw_extracted.json\")\n",
    "    csv_path = get_path_from_root(f\"results/omw/{out_prefix}_omw_extracted.csv\")\n",
    "    analysis_name = f\"{out_prefix}_omw_scored\"\n",
    "    synset_word_match_dict = get_resource_word_match(selected_ilis_path, selected_words_path)\n",
    "elif resource_set_type == \"culture\":\n",
    "    out_prefix = \"all_culture\"\n",
    "    input_path = get_path_from_root(f\"resources/culture/{out_prefix}.csv\")\n",
    "    json_path = get_path_from_root(f\"results/omw/{out_prefix}_omw_extracted.json\")\n",
    "    csv_path = get_path_from_root(f\"results/omw/{out_prefix}_omw_extracted.csv\")\n",
    "    analysis_name = f\"{out_prefix}_omw_scored\"\n",
    "elif resource_set_type == \"selected_culture\":\n",
    "    out_prefix = \"selected_culture\"\n",
    "    input_path = get_path_from_root(f\"resources/culture/ili_es_culture_filtered.csv\")\n",
    "    json_path = get_path_from_root(f\"results/omw/{out_prefix}_omw_extracted.json\")\n",
    "    csv_path = get_path_from_root(f\"results/omw/{out_prefix}_omw_extracted.csv\")\n",
    "    analysis_name = f\"{out_prefix}_omw_scored\"\n",
    "elif resource_set_type == \"annotation_culture\":\n",
    "    out_prefix = \"annotation_culture_copy\"\n",
    "    input_path = get_path_from_root(f\"resources/annotation/culture_annotated_silver_simple_majority_voting.xlsx\")\n",
    "    json_path = get_path_from_root(f\"results/omw/{out_prefix}_omw_extracted.json\")\n",
    "    csv_path = get_path_from_root(f\"results/omw/{out_prefix}_omw_extracted.csv\")\n",
    "    analysis_name = f\"{out_prefix}_omw_scored\"\n",
    "elif resource_set_type == \"annotation_culture_gold_it\":\n",
    "    out_prefix = \"annotation_culture_gold_it_copy\"\n",
    "    input_path = get_path_from_root(f\"resources/annotation/culture_annotated_gold_it_majority_voting.xlsx\")\n",
    "    json_path = get_path_from_root(f\"results/omw/{out_prefix}_omw_extracted.json\")\n",
    "    csv_path = get_path_from_root(f\"results/omw/{out_prefix}_omw_extracted.csv\")\n",
    "    analysis_name = f\"{out_prefix}_omw_scored\"\n",
    "else:\n",
    "    raise ValueError(f\"Invalid resource_set_type: {resource_set_type}\")"
   ]
  },
  {
   "cell_type": "code",
   "execution_count": 4,
   "id": "e5f889d42202b3f7",
   "metadata": {
    "ExecuteTime": {
     "end_time": "2025-03-27T12:34:48.510587Z",
     "start_time": "2025-03-27T12:34:48.416649Z"
    }
   },
   "outputs": [],
   "source": [
    "if resource_set_type == \"selected\":\n",
    "    # Load selected ilis\n",
    "    df = pd.read_csv(selected_ilis_path)\n",
    "    all_synsets = []\n",
    "    \n",
    "    # Extract synsets matching the selected ilis\n",
    "    for column in df.columns:\n",
    "        for ili_id in df[column]:\n",
    "            word = synset_word_match_dict[column][ili_id]\n",
    "            print(f\"ILI id: {ili_id}, Word: {word}\")\n",
    "            en_synsets = wn.synsets(ili=ili_id, lang=\"en\")\n",
    "            all_synsets.extend(en_synsets)\n",
    "    # print()\n",
    "    # print(f\"Number of selected ilis: {df.shape[0]}\")\n",
    "    # print(f\"Number of extracted synsets: {len(all_synsets)}\")\n",
    "    input = all_synsets\n",
    "elif resource_set_type == \"selected_culture\":\n",
    "    # Load selected culture words\n",
    "    df = pd.read_csv(input_path)\n",
    "    df[\"ilis\"] = df[\"ilis\"].apply(ast.literal_eval)\n",
    "    input = df\n",
    "elif resource_set_type in [\"annotation_culture\", \"annotation_culture_gold_it\"]:\n",
    "    # Load annotation culture ilis\n",
    "    df = pd.read_excel(input_path)\n",
    "    input = df[\"ili\"].tolist()\n",
    "    use_ili_list = True\n",
    "else:\n",
    "    # Load resources from csv\n",
    "    df = pd.read_csv(input_path)\n",
    "    words = df[\"col1\"].tolist()\n",
    "    input = words\n",
    "    # print(f\"Used words: {words}\")"
   ]
  },
  {
   "cell_type": "code",
   "execution_count": 5,
   "id": "5d015e66566fd031",
   "metadata": {
    "ExecuteTime": {
     "end_time": "2025-03-27T12:34:48.523809Z",
     "start_time": "2025-03-27T12:34:48.519553Z"
    }
   },
   "outputs": [],
   "source": [
    "extractor = OMWMetricsExtractor()"
   ]
  },
  {
   "cell_type": "code",
   "execution_count": 6,
   "id": "4d54db78ebc46d7b",
   "metadata": {
    "ExecuteTime": {
     "end_time": "2025-03-27T12:35:43.851505Z",
     "start_time": "2025-03-27T12:34:48.569395Z"
    }
   },
   "outputs": [
    {
     "name": "stdout",
     "output_type": "stream",
     "text": []
    }
   ],
   "source": [
    "# Extract synsets data\n",
    "data_dict = extractor.extract(input, verbose=False, json_path=json_path, csv_path=csv_path, \n",
    "                              filter_zero_freq=True, languages=langs, max_lemmas=3, use_ili_list=use_ili_list)"
   ]
  },
  {
   "cell_type": "code",
   "execution_count": 7,
   "id": "3439a14ac6d42e54",
   "metadata": {
    "ExecuteTime": {
     "end_time": "2025-03-27T12:35:43.921861Z",
     "start_time": "2025-03-27T12:35:43.906388Z"
    }
   },
   "outputs": [
    {
     "name": "stdout",
     "output_type": "stream",
     "text": []
    }
   ],
   "source": [
    "# Load synsets data from csv\n",
    "all_synsets_df = pd.read_csv(csv_path)\n",
    "all_synsets_df"
   ]
  },
  {
   "cell_type": "markdown",
   "id": "3b600962351ba1f5",
   "metadata": {},
   "source": [
    "## Basicness Analysis: Calculation and Evaluation"
   ]
  },
  {
   "cell_type": "code",
   "execution_count": 8,
   "id": "48b58af968e50a15",
   "metadata": {
    "ExecuteTime": {
     "end_time": "2025-03-27T12:35:44.126509Z",
     "start_time": "2025-03-27T12:35:44.105100Z"
    }
   },
   "outputs": [],
   "source": [
    "# opt_path = get_path_from_root(\"resources/annotation/culture_annotated_silver_simple_majority_voting.xlsx\")\n",
    "opt_path = get_path_from_root(\"resources/annotation/culture_annotated_gold_it_majority_voting.xlsx\")\n",
    "analyzer = OMWBasicnessAnalyzer(all_synsets_df, opt_set_path=opt_path)"
   ]
  },
  {
   "cell_type": "code",
   "execution_count": 9,
   "id": "9bfabbd9",
   "metadata": {},
   "outputs": [
    {
     "name": "stdout",
     "output_type": "stream",
     "text": []
    }
   ],
   "source": [
    "# Load correlation-based weights\n",
    "correlation_path = get_path_from_root(\"../../results/correlation/unfiltered/spearman_correlations.csv\")\n",
    "language_specific_weights = OMWBasicnessAnalyzer.load_correlation_weights(correlation_path)\n",
    "\n",
    "# Set the language-specific weights\n",
    "analyzer.set_language_specific_weights(language_specific_weights)\n",
    "\n",
    "# Display the weights for each language\n",
    "for lang, weights in language_specific_weights.items():\n",
    "    print(f\"\\n--- {lang} specific weights ---\")\n",
    "    for key, value in weights.items():\n",
    "        print(f\"\\t{key}: {value}\")"
   ]
  },
  {
   "cell_type": "code",
   "execution_count": 10,
   "id": "87c7868f5255f581",
   "metadata": {
    "ExecuteTime": {
     "end_time": "2025-03-27T12:35:44.271990Z",
     "start_time": "2025-03-27T12:35:44.153661Z"
    }
   },
   "outputs": [
    {
     "name": "stdout",
     "output_type": "stream",
     "text": []
    }
   ],
   "source": [
    "# Analyze synsets data using correlation-based weights\n",
    "all_synsets_lang_syn_df = analyzer.analyze_lang_syn_group(word=analysis_name + \"_correlation_weights\", thresholds=fixed_thresholds)\n",
    "# Reset indexes\n",
    "all_synsets_lang_syn_df = all_synsets_lang_syn_df.reset_index(drop=True)\n",
    "all_synsets_lang_syn_df"
   ]
  },
  {
   "cell_type": "code",
   "execution_count": null,
   "id": "b209870f",
   "metadata": {},
   "outputs": [],
   "source": [
    "# Compare previous weights with correlation-based weights\n",
    "used_weights = {\n",
    "    'word_frequency_weight': 0.3,\n",
    "    'word_length_weight': 2.0,\n",
    "    'pronounce_complexity_weight': 0.3,\n",
    "    'n_hyponyms_weight': 0.0,\n",
    "    'n_synonyms_weight': 0.0,\n",
    "    'n_senses_weight': 0.0,\n",
    "    'word_in_children_res_weight': 0.5,\n",
    "    'word_in_second_lang_learn_res_weight': 0.6,\n",
    "    'n_syn_senses_weight': 0.0\n",
    "}\n",
    "\n",
    "analyzer.set_weights(used_weights)\n",
    "analyzer.set_language_specific_weights(None)  # Disable language-specific weights\n",
    "\n",
    "all_synsets_uniform_df = analyzer.analyze_lang_syn_group(word=analysis_name + \"_uniform_weights\", thresholds=fixed_thresholds)\n",
    "all_synsets_uniform_df = all_synsets_uniform_df.reset_index(drop=True)\n",
    "\n",
    "# Re-enable language-specific weights for further analysis\n",
    "analyzer.set_language_specific_weights(language_specific_weights)"
   ]
  },
  {
   "cell_type": "code",
   "execution_count": null,
   "id": "fd1c325e",
   "metadata": {},
   "outputs": [],
   "source": [
    "# Compare evaluation metrics between uniform and correlation-based weights\n",
    "print(\"=== Evaluation with Uniform Weights ===\")\n",
    "analyzer.set_language_specific_weights(None)  # Use uniform weights\n",
    "eval_rank_uniform = analyzer.evaluate_accordance(allow_margin_error=True)\n",
    "eval_ord_reg_loss_uniform = analyzer.evaluate_ordinal_regression_loss()\n",
    "print(f\"Rank evaluation: {eval_rank_uniform}\")\n",
    "print(f\"Ordinal regression loss: {eval_ord_reg_loss_uniform}\")\n",
    "\n",
    "print(\"\\n=== Evaluation with Correlation-Based Weights ===\")\n",
    "analyzer.set_language_specific_weights(language_specific_weights)  # Use correlation weights\n",
    "eval_rank_corr = analyzer.evaluate_accordance(allow_margin_error=True)\n",
    "eval_ord_reg_loss_corr = analyzer.evaluate_ordinal_regression_loss()\n",
    "print(f\"Rank evaluation: {eval_rank_corr}\")\n",
    "print(f\"Ordinal regression loss: {eval_ord_reg_loss_corr}\")"
   ]
  },
  {
   "cell_type": "code",
   "execution_count": null,
   "id": "450f549d98819607",
   "metadata": {
    "ExecuteTime": {
     "end_time": "2025-03-27T12:03:58.155185Z",
     "start_time": "2025-03-27T12:03:57.102818Z"
    }
   },
   "outputs": [
    {
     "name": "stdout",
     "output_type": "stream",
     "text": []
    }
   ],
   "source": [
    "import os\n",
    "threshold = 0.4# create the folder results/omw if it does not exist\n",
    "os.makedirs(get_path_from_root(\"results/omw\"), exist_ok=True)\n",
    "eval_binary = analyzer.evaluate_basicness_score_binary(threshold=threshold)\n",
    "print(f\"--- Binary evaluation ---\")\n",
    "print(f\"threshold: {threshold}\")\n",
    "print(f\"weights:\")\n",
    "for key, value in used_weights.items():\n",
    "    print(f\"\\t{key}: {value}\")\n",
    "print(eval_binary)"
   ]
  },
  {
   "cell_type": "code",
   "execution_count": null,
   "id": "60e83a498da00130",
   "metadata": {
    "ExecuteTime": {
     "end_time": "2025-03-27T12:03:59.960655Z",
     "start_time": "2025-03-27T12:03:58.201182Z"
    }
   },
   "outputs": [
    {
     "name": "stdout",
     "output_type": "stream",
     "text": []
    }
   ],
   "source": [
    "eval_ord_reg_loss_train = analyzer.evaluate_ordinal_regression_loss(opt_split=\"train\")\n",
    "eval_ord_reg_loss_test = analyzer.evaluate_ordinal_regression_loss(opt_split=\"test\")\n",
    "eval_ord_reg_loss_full = analyzer.evaluate_ordinal_regression_loss()\n",
    "print(f\"Ordinal regression loss train: {eval_ord_reg_loss_train}\")\n",
    "print(f\"Ordinal regression loss test: {eval_ord_reg_loss_test}\")\n",
    "print(f\"Ordinal regression loss full: {eval_ord_reg_loss_full}\")"
   ]
  },
  {
   "cell_type": "code",
   "execution_count": null,
   "id": "260447c27d77ca99",
   "metadata": {
    "ExecuteTime": {
     "end_time": "2025-03-27T12:03:59.978306Z",
     "start_time": "2025-03-27T12:03:59.976042Z"
    }
   },
   "outputs": [],
   "source": [
    "# accordance_overall = analyzer.get_overall_accordance()\n",
    "# accordance_test = analyzer.get_overall_accordance(opt_split=\"test\")\n",
    "# print(f\"Overall accordance: {accordance_overall}\")\n",
    "# print(f\"Test set overall accordance: {accordance_test}\")"
   ]
  },
  {
   "cell_type": "code",
   "execution_count": null,
   "id": "bedfb617b7ab175f",
   "metadata": {
    "ExecuteTime": {
     "end_time": "2025-03-27T12:04:01.634438Z",
     "start_time": "2025-03-27T12:04:00.027374Z"
    }
   },
   "outputs": [
    {
     "name": "stdout",
     "output_type": "stream",
     "text": []
    }
   ],
   "source": [
    "eval_cum_ord_loss_train = analyzer.evaluate_cumulative_ordinal_loss(opt_split=\"train\")\n",
    "eval_cum_ord_loss_test = analyzer.evaluate_cumulative_ordinal_loss(opt_split=\"test\")\n",
    "eval_cum_ord_loss_full = analyzer.evaluate_cumulative_ordinal_loss()\n",
    "print(f\"Ordinal cumulative loss train: {eval_cum_ord_loss_train}\")\n",
    "print(f\"Ordinal cumulative loss test: {eval_cum_ord_loss_test}\")\n",
    "print(f\"Ordinal cumulative loss full: {eval_cum_ord_loss_full}\")"
   ]
  },
  {
   "cell_type": "code",
   "execution_count": null,
   "id": "bc421d51372950a5",
   "metadata": {
    "ExecuteTime": {
     "end_time": "2025-03-27T12:04:03.237166Z",
     "start_time": "2025-03-27T12:04:01.657879Z"
    }
   },
   "outputs": [],
   "source": [
    "eval_rank_train = analyzer.evaluate_accordance(opt_split=\"train\")\n",
    "eval_rank_test = analyzer.evaluate_accordance(opt_split=\"test\")\n",
    "eval_rank_full = analyzer.evaluate_accordance(allow_margin_error=True)\n",
    "print(f\"Rank train eval: {eval_rank_train}\")\n",
    "print(f\"Rank test eval: {eval_rank_test}\")\n",
    "print(f\"Rank full eval: {eval_rank_full}\")"
   ]
  },
  {
   "cell_type": "markdown",
   "id": "2ccd1c2d2352c0e4",
   "metadata": {},
   "source": [
    "## Basicness Analysis: Optimization"
   ]
  },
  {
   "cell_type": "code",
   "execution_count": null,
   "id": "5135634fe8f7a242",
   "metadata": {},
   "outputs": [],
   "source": [
    "best_weights, best_df = analyzer.optimize_weights_diff_evo(\"optimal\", \"rank\", optimize_thresholds=False, optimize_gamma=False, thresholds=fixed_thresholds)"
   ]
  },
  {
   "cell_type": "code",
   "execution_count": null,
   "id": "69fcb369a932c026",
   "metadata": {},
   "outputs": [],
   "source": [
    "best_weights"
   ]
  },
  {
   "cell_type": "code",
   "execution_count": null,
   "id": "8af745b6771eaf28",
   "metadata": {},
   "outputs": [],
   "source": [
    "analyzer.set_weights(best_weights)"
   ]
  },
  {
   "cell_type": "code",
   "execution_count": null,
   "id": "92365c30abb0c120",
   "metadata": {},
   "outputs": [],
   "source": [
    "eval_max_post_opt = analyzer.evaluate_basicness_score_max()\n",
    "print(f\"MAX eval post opt: {eval_max_post_opt}\")"
   ]
  },
  {
   "cell_type": "code",
   "execution_count": null,
   "id": "485cacfdbc876d7f",
   "metadata": {},
   "outputs": [],
   "source": [
    "eval_mse_post_opt_train = analyzer.evaluate_basicness_score_mse()\n",
    "eval_mse_post_opt_test = analyzer.evaluate_basicness_score_mse(use_test_set=True)\n",
    "print(f\"MSE train eval post opt: {eval_mse_post_opt_train}\")\n",
    "print(f\"MSE test eval post opt: {eval_mse_post_opt_test}\")"
   ]
  },
  {
   "cell_type": "code",
   "execution_count": null,
   "id": "e162e033cb6677b3",
   "metadata": {},
   "outputs": [],
   "source": [
    "eval_rank_post_opt_train = analyzer.evaluate_accordance(thresholds=fixed_thresholds)\n",
    "eval_rank_post_opt_test = analyzer.evaluate_accordance(use_test_set=True, thresholds=fixed_thresholds)\n",
    "print(f\"Rank train eval post opt: {eval_rank_post_opt_train}\")\n",
    "print(f\"Rank test eval post opt: {eval_rank_post_opt_test}\")"
   ]
  },
  {
   "cell_type": "code",
   "execution_count": null,
   "id": "436816a00d55c108",
   "metadata": {},
   "outputs": [],
   "source": [
    "eval_ord_reg_loss_train = analyzer.evaluate_ordinal_regression_loss()\n",
    "eval_ord_reg_loss_test = analyzer.evaluate_ordinal_regression_loss(use_test_set=True)\n",
    "print(f\"Ordinal regression loss train: {eval_ord_reg_loss_train}\")\n",
    "print(f\"Ordinal regression loss test: {eval_ord_reg_loss_test}\")"
   ]
  },
  {
   "cell_type": "code",
   "execution_count": null,
   "id": "3dddcc4fd48ccdc0",
   "metadata": {},
   "outputs": [],
   "source": [
    "gamma = best_weights['gamma']\n",
    "eval_cum_ord_loss_train = analyzer.evaluate_cumulative_ordinal_loss(gamma=gamma)\n",
    "eval_cum_ord_loss_test = analyzer.evaluate_cumulative_ordinal_loss(opt_split=True, gamma=gamma)\n",
    "print(f\"Ordinal cumulative loss train: {eval_cum_ord_loss_train}\")\n",
    "print(f\"Ordinal cumulative loss test: {eval_cum_ord_loss_test}\")"
   ]
  },
  {
   "cell_type": "code",
   "execution_count": null,
   "id": "3d5edb4673f49815",
   "metadata": {},
   "outputs": [],
   "source": [
    "accordance_overall = analyzer.get_overall_accordance(thresholds=fixed_thresholds)\n",
    "accordance_test = analyzer.get_overall_accordance(use_test_set=True, thresholds=fixed_thresholds)\n",
    "print(f\"Overall accordance: {accordance_overall}\")\n",
    "print(f\"Test set overall accordance: {accordance_test}\")"
   ]
  },
  {
   "cell_type": "code",
   "execution_count": null,
   "id": "7deb0ebabbf5f741",
   "metadata": {},
   "outputs": [],
   "source": [
    "best_df"
   ]
  },
  {
   "cell_type": "markdown",
   "id": "4ef031dd9d08fc5c",
   "metadata": {},
   "source": [
    "## Plots"
   ]
  },
  {
   "cell_type": "code",
   "execution_count": null,
   "id": "fa7f23c2c9b8501f",
   "metadata": {},
   "outputs": [],
   "source": [
    "if enable_plots:\n",
    "    plot_heatmap(all_synsets_lang_syn_df, limit=400)"
   ]
  },
  {
   "cell_type": "code",
   "execution_count": null,
   "id": "1007db1163fc82f6",
   "metadata": {},
   "outputs": [],
   "source": [
    "if enable_plots:\n",
    "    plot_spaghettiplot(all_synsets_lang_syn_df, limit=15, show_legend=True)"
   ]
  },
  {
   "cell_type": "code",
   "execution_count": null,
   "id": "454b7364b1bce8dc",
   "metadata": {},
   "outputs": [],
   "source": [
    "if enable_plots:\n",
    "    # Add rank column to dataframe\n",
    "    ranked_lang_syn_df = analyzer.add_basicness_rank(all_synsets_lang_syn_df)\n",
    "    ranked_lang_syn_df"
   ]
  },
  {
   "cell_type": "code",
   "execution_count": null,
   "id": "1b5848d98251e458",
   "metadata": {},
   "outputs": [],
   "source": [
    "if enable_plots:\n",
    "    plot_clustermap(ranked_lang_syn_df, use_rank=True, limit=130)"
   ]
  }
 ],
 "metadata": {
  "kernelspec": {
   "display_name": "basicness",
   "language": "python",
   "name": "python3"
  },
  "language_info": {
   "codemirror_mode": {
    "name": "ipython",
    "version": 3
   },
   "file_extension": ".py",
   "mimetype": "text/x-python",
   "name": "python",
   "nbconvert_exporter": "python",
   "pygments_lexer": "ipython3",
   "version": "3.12.9"
  }
 },
 "nbformat": 4,
 "nbformat_minor": 5
}
